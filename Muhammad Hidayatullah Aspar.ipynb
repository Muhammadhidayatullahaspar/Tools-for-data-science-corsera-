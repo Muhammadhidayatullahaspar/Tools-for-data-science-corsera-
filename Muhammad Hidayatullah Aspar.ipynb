{
  "metadata": {
    "language_info": {
      "codemirror_mode": {
        "name": "python",
        "version": 3
      },
      "file_extension": ".py",
      "mimetype": "text/x-python",
      "name": "python",
      "nbconvert_exporter": "python",
      "pygments_lexer": "ipython3",
      "version": "3.8"
    },
    "kernelspec": {
      "name": "python",
      "display_name": "Python (Pyodide)",
      "language": "python"
    }
  },
  "nbformat_minor": 4,
  "nbformat": 4,
  "cells": [
    {
      "cell_type": "markdown",
      "source": "## Data Science tools and ecosystem",
      "metadata": {}
    },
    {
      "cell_type": "markdown",
      "source": "in this notebook, data science, its ecosystem and the tools needed to carry out the function of data scientist are briefly summarized",
      "metadata": {}
    },
    {
      "cell_type": "markdown",
      "source": "some of the popular languange data scientist use are\n1. python\n2. R\n3. SQL\n4. Scala\n5. Java\n6. C++\n7. Julia\n8.Javascript\n9. Php\n10. Go\n11.Ruby\n12. Visual basic",
      "metadata": {}
    },
    {
      "cell_type": "markdown",
      "source": "some of the commonly used libaries used by data scientist include:\n1. Pandas\n2. Numpy\n3. Mathplotlib\n4. Seaborn\n5. Scikit - learn\n6. Keras\n7. Tensorflow\n8. Pythorch\n9. Apache park\n10. Vegas\n11. Big Dl\n12. Ggplot2",
      "metadata": {}
    },
    {
      "cell_type": "markdown",
      "source": "Data scientist tools :\n1. Anaconda\n2. R studio\n3. Spyder\n4. Zeppelin",
      "metadata": {}
    },
    {
      "cell_type": "markdown",
      "source": "Below are few example of evaluating arithmetic expressions in python",
      "metadata": {}
    },
    {
      "cell_type": "code",
      "source": "#arithmetic expression \n(10*45)+20",
      "metadata": {
        "trusted": true
      },
      "execution_count": 3,
      "outputs": [
        {
          "execution_count": 3,
          "output_type": "execute_result",
          "data": {
            "text/plain": "470"
          },
          "metadata": {}
        }
      ]
    },
    {
      "cell_type": "code",
      "source": "##this convert 300 minute to hour\n300//60",
      "metadata": {
        "trusted": true
      },
      "execution_count": 4,
      "outputs": [
        {
          "execution_count": 4,
          "output_type": "execute_result",
          "data": {
            "text/plain": "5"
          },
          "metadata": {}
        }
      ]
    },
    {
      "cell_type": "markdown",
      "source": "Objectives :\n1. add comment to code cell\n2. create markdown cell\n3. add ordered and unordered list to markdown cell\n4. format content of markdown cell with heading style",
      "metadata": {}
    },
    {
      "cell_type": "markdown",
      "source": "## Author\n# Muhammad Hidayatullah Aspar",
      "metadata": {}
    },
    {
      "cell_type": "code",
      "source": "",
      "metadata": {},
      "execution_count": null,
      "outputs": []
    }
  ]
}